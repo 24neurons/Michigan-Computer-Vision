{
  "nbformat": 4,
  "nbformat_minor": 0,
  "metadata": {
    "colab": {
      "name": "data.ipynb",
      "provenance": [],
      "authorship_tag": "ABX9TyNe9xhud278SXKds7hAJdFD",
      "include_colab_link": true
    },
    "kernelspec": {
      "name": "python3",
      "display_name": "Python 3"
    },
    "language_info": {
      "name": "python"
    }
  },
  "cells": [
    {
      "cell_type": "markdown",
      "metadata": {
        "id": "view-in-github",
        "colab_type": "text"
      },
      "source": [
        "<a href=\"https://colab.research.google.com/github/Miku0204/Michigan-Computer-Vision/blob/main/KNN%20Classifier/utils/data.ipynb\" target=\"_parent\"><img src=\"https://colab.research.google.com/assets/colab-badge.svg\" alt=\"Open In Colab\"/></a>"
      ]
    },
    {
      "cell_type": "code",
      "metadata": {
        "id": "MeO1UX3t9v1N"
      },
      "source": [
        "'''\n",
        "Insert your github information to mount colab to github\n",
        "'''\n",
        "user_email = \n",
        "user_name  = \n",
        "\n",
        "!git config --global user.email {user_email}\n",
        "!git config --global user.name  {user_name}"
      ],
      "execution_count": 6,
      "outputs": []
    },
    {
      "cell_type": "code",
      "metadata": {
        "id": "DqTqVdLZ9u3e"
      },
      "source": [
        "'''\n",
        "This is where we clone the repository to make changes from colab\n",
        "Note!!!\n",
        "Do not share the token to anyone\n",
        "'''\n",
        "git_token = \n",
        "repository = \n",
        "\n",
        "!git clone https://{git_token}@github.com/{user_name}/{repository}"
      ],
      "execution_count": null,
      "outputs": []
    },
    {
      "cell_type": "code",
      "metadata": {
        "id": "tO6NcDvTAuhQ"
      },
      "source": [
        "import numpy as np\n",
        "import tensorflow as tf\n",
        "import tensorflow_datasets as tfds"
      ],
      "execution_count": 18,
      "outputs": []
    },
    {
      "cell_type": "code",
      "metadata": {
        "id": "ZhZ22Q5WEwEP"
      },
      "source": [
        "ds = tfds.load('cifar10', split='train', shuffle_files=True)"
      ],
      "execution_count": null,
      "outputs": []
    },
    {
      "cell_type": "code",
      "metadata": {
        "id": "-og33-paGOBa",
        "outputId": "5ae68734-4919-40ce-ba47-5ddf967c170d",
        "colab": {
          "base_uri": "https://localhost:8080/"
        }
      },
      "source": [
        "ds"
      ],
      "execution_count": 20,
      "outputs": [
        {
          "output_type": "execute_result",
          "data": {
            "text/plain": [
              "<_OptionsDataset shapes: {image: (28, 28, 1), label: ()}, types: {image: tf.uint8, label: tf.int64}>"
            ]
          },
          "metadata": {},
          "execution_count": 20
        }
      ]
    },
    {
      "cell_type": "code",
      "metadata": {
        "id": "CtVUVcB4GRmC"
      },
      "source": [
        ""
      ],
      "execution_count": null,
      "outputs": []
    }
  ]
}