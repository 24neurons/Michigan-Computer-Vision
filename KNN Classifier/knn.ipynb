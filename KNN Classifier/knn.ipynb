{
  "nbformat": 4,
  "nbformat_minor": 0,
  "metadata": {
    "colab": {
      "name": "Knn.ipynb",
      "provenance": [],
      "authorship_tag": "ABX9TyP9JbDWPcdAMpYJdMoIcW5c",
      "include_colab_link": true
    },
    "kernelspec": {
      "name": "python3",
      "display_name": "Python 3"
    },
    "language_info": {
      "name": "python"
    },
    "widgets": {
      "application/vnd.jupyter.widget-state+json": {
        "64c4f5af7c23451dac7ef95847842ba1": {
          "model_module": "@jupyter-widgets/controls",
          "model_name": "HBoxModel",
          "model_module_version": "1.5.0",
          "state": {
            "_view_name": "HBoxView",
            "_dom_classes": [],
            "_model_name": "HBoxModel",
            "_view_module": "@jupyter-widgets/controls",
            "_model_module_version": "1.5.0",
            "_view_count": null,
            "_view_module_version": "1.5.0",
            "box_style": "",
            "layout": "IPY_MODEL_3a39951f536345b4a2a99f17ca46113a",
            "_model_module": "@jupyter-widgets/controls",
            "children": [
              "IPY_MODEL_747c944dc0b048fcaad4f953b53f7294",
              "IPY_MODEL_0bfb264134a743c9bd2014e67f368af3",
              "IPY_MODEL_7146818d28f14fe0b76f5b51baa82365"
            ]
          }
        },
        "3a39951f536345b4a2a99f17ca46113a": {
          "model_module": "@jupyter-widgets/base",
          "model_name": "LayoutModel",
          "model_module_version": "1.2.0",
          "state": {
            "_view_name": "LayoutView",
            "grid_template_rows": null,
            "right": null,
            "justify_content": null,
            "_view_module": "@jupyter-widgets/base",
            "overflow": null,
            "_model_module_version": "1.2.0",
            "_view_count": null,
            "flex_flow": null,
            "width": null,
            "min_width": null,
            "border": null,
            "align_items": null,
            "bottom": null,
            "_model_module": "@jupyter-widgets/base",
            "top": null,
            "grid_column": null,
            "overflow_y": null,
            "overflow_x": null,
            "grid_auto_flow": null,
            "grid_area": null,
            "grid_template_columns": null,
            "flex": null,
            "_model_name": "LayoutModel",
            "justify_items": null,
            "grid_row": null,
            "max_height": null,
            "align_content": null,
            "visibility": null,
            "align_self": null,
            "height": null,
            "min_height": null,
            "padding": null,
            "grid_auto_rows": null,
            "grid_gap": null,
            "max_width": null,
            "order": null,
            "_view_module_version": "1.2.0",
            "grid_template_areas": null,
            "object_position": null,
            "object_fit": null,
            "grid_auto_columns": null,
            "margin": null,
            "display": null,
            "left": null
          }
        },
        "747c944dc0b048fcaad4f953b53f7294": {
          "model_module": "@jupyter-widgets/controls",
          "model_name": "HTMLModel",
          "model_module_version": "1.5.0",
          "state": {
            "_view_name": "HTMLView",
            "style": "IPY_MODEL_331d04cfb638403c93e061498ea78885",
            "_dom_classes": [],
            "description": "",
            "_model_name": "HTMLModel",
            "placeholder": "​",
            "_view_module": "@jupyter-widgets/controls",
            "_model_module_version": "1.5.0",
            "value": "Dl Completed...: 100%",
            "_view_count": null,
            "_view_module_version": "1.5.0",
            "description_tooltip": null,
            "_model_module": "@jupyter-widgets/controls",
            "layout": "IPY_MODEL_9848630aaa0940b692709e6935c14bae"
          }
        },
        "0bfb264134a743c9bd2014e67f368af3": {
          "model_module": "@jupyter-widgets/controls",
          "model_name": "FloatProgressModel",
          "model_module_version": "1.5.0",
          "state": {
            "_view_name": "ProgressView",
            "style": "IPY_MODEL_1fe24a7b4f754c9bba78138261f1e3aa",
            "_dom_classes": [],
            "description": "",
            "_model_name": "FloatProgressModel",
            "bar_style": "success",
            "max": 1,
            "_view_module": "@jupyter-widgets/controls",
            "_model_module_version": "1.5.0",
            "value": 1,
            "_view_count": null,
            "_view_module_version": "1.5.0",
            "orientation": "horizontal",
            "min": 0,
            "description_tooltip": null,
            "_model_module": "@jupyter-widgets/controls",
            "layout": "IPY_MODEL_7074784bef5940d382f75df7f290ee86"
          }
        },
        "7146818d28f14fe0b76f5b51baa82365": {
          "model_module": "@jupyter-widgets/controls",
          "model_name": "HTMLModel",
          "model_module_version": "1.5.0",
          "state": {
            "_view_name": "HTMLView",
            "style": "IPY_MODEL_ae4b39913ef44acea76f5e8cdd72b0eb",
            "_dom_classes": [],
            "description": "",
            "_model_name": "HTMLModel",
            "placeholder": "​",
            "_view_module": "@jupyter-widgets/controls",
            "_model_module_version": "1.5.0",
            "value": " 1/1 [00:07&lt;00:00,  4.78s/ url]",
            "_view_count": null,
            "_view_module_version": "1.5.0",
            "description_tooltip": null,
            "_model_module": "@jupyter-widgets/controls",
            "layout": "IPY_MODEL_360a22a3b18d4f6a9b8ed1d6dbf3003b"
          }
        },
        "331d04cfb638403c93e061498ea78885": {
          "model_module": "@jupyter-widgets/controls",
          "model_name": "DescriptionStyleModel",
          "model_module_version": "1.5.0",
          "state": {
            "_view_name": "StyleView",
            "_model_name": "DescriptionStyleModel",
            "description_width": "",
            "_view_module": "@jupyter-widgets/base",
            "_model_module_version": "1.5.0",
            "_view_count": null,
            "_view_module_version": "1.2.0",
            "_model_module": "@jupyter-widgets/controls"
          }
        },
        "9848630aaa0940b692709e6935c14bae": {
          "model_module": "@jupyter-widgets/base",
          "model_name": "LayoutModel",
          "model_module_version": "1.2.0",
          "state": {
            "_view_name": "LayoutView",
            "grid_template_rows": null,
            "right": null,
            "justify_content": null,
            "_view_module": "@jupyter-widgets/base",
            "overflow": null,
            "_model_module_version": "1.2.0",
            "_view_count": null,
            "flex_flow": null,
            "width": null,
            "min_width": null,
            "border": null,
            "align_items": null,
            "bottom": null,
            "_model_module": "@jupyter-widgets/base",
            "top": null,
            "grid_column": null,
            "overflow_y": null,
            "overflow_x": null,
            "grid_auto_flow": null,
            "grid_area": null,
            "grid_template_columns": null,
            "flex": null,
            "_model_name": "LayoutModel",
            "justify_items": null,
            "grid_row": null,
            "max_height": null,
            "align_content": null,
            "visibility": null,
            "align_self": null,
            "height": null,
            "min_height": null,
            "padding": null,
            "grid_auto_rows": null,
            "grid_gap": null,
            "max_width": null,
            "order": null,
            "_view_module_version": "1.2.0",
            "grid_template_areas": null,
            "object_position": null,
            "object_fit": null,
            "grid_auto_columns": null,
            "margin": null,
            "display": null,
            "left": null
          }
        },
        "1fe24a7b4f754c9bba78138261f1e3aa": {
          "model_module": "@jupyter-widgets/controls",
          "model_name": "ProgressStyleModel",
          "model_module_version": "1.5.0",
          "state": {
            "_view_name": "StyleView",
            "_model_name": "ProgressStyleModel",
            "description_width": "",
            "_view_module": "@jupyter-widgets/base",
            "_model_module_version": "1.5.0",
            "_view_count": null,
            "_view_module_version": "1.2.0",
            "bar_color": null,
            "_model_module": "@jupyter-widgets/controls"
          }
        },
        "7074784bef5940d382f75df7f290ee86": {
          "model_module": "@jupyter-widgets/base",
          "model_name": "LayoutModel",
          "model_module_version": "1.2.0",
          "state": {
            "_view_name": "LayoutView",
            "grid_template_rows": null,
            "right": null,
            "justify_content": null,
            "_view_module": "@jupyter-widgets/base",
            "overflow": null,
            "_model_module_version": "1.2.0",
            "_view_count": null,
            "flex_flow": null,
            "width": "20px",
            "min_width": null,
            "border": null,
            "align_items": null,
            "bottom": null,
            "_model_module": "@jupyter-widgets/base",
            "top": null,
            "grid_column": null,
            "overflow_y": null,
            "overflow_x": null,
            "grid_auto_flow": null,
            "grid_area": null,
            "grid_template_columns": null,
            "flex": null,
            "_model_name": "LayoutModel",
            "justify_items": null,
            "grid_row": null,
            "max_height": null,
            "align_content": null,
            "visibility": null,
            "align_self": null,
            "height": null,
            "min_height": null,
            "padding": null,
            "grid_auto_rows": null,
            "grid_gap": null,
            "max_width": null,
            "order": null,
            "_view_module_version": "1.2.0",
            "grid_template_areas": null,
            "object_position": null,
            "object_fit": null,
            "grid_auto_columns": null,
            "margin": null,
            "display": null,
            "left": null
          }
        },
        "ae4b39913ef44acea76f5e8cdd72b0eb": {
          "model_module": "@jupyter-widgets/controls",
          "model_name": "DescriptionStyleModel",
          "model_module_version": "1.5.0",
          "state": {
            "_view_name": "StyleView",
            "_model_name": "DescriptionStyleModel",
            "description_width": "",
            "_view_module": "@jupyter-widgets/base",
            "_model_module_version": "1.5.0",
            "_view_count": null,
            "_view_module_version": "1.2.0",
            "_model_module": "@jupyter-widgets/controls"
          }
        },
        "360a22a3b18d4f6a9b8ed1d6dbf3003b": {
          "model_module": "@jupyter-widgets/base",
          "model_name": "LayoutModel",
          "model_module_version": "1.2.0",
          "state": {
            "_view_name": "LayoutView",
            "grid_template_rows": null,
            "right": null,
            "justify_content": null,
            "_view_module": "@jupyter-widgets/base",
            "overflow": null,
            "_model_module_version": "1.2.0",
            "_view_count": null,
            "flex_flow": null,
            "width": null,
            "min_width": null,
            "border": null,
            "align_items": null,
            "bottom": null,
            "_model_module": "@jupyter-widgets/base",
            "top": null,
            "grid_column": null,
            "overflow_y": null,
            "overflow_x": null,
            "grid_auto_flow": null,
            "grid_area": null,
            "grid_template_columns": null,
            "flex": null,
            "_model_name": "LayoutModel",
            "justify_items": null,
            "grid_row": null,
            "max_height": null,
            "align_content": null,
            "visibility": null,
            "align_self": null,
            "height": null,
            "min_height": null,
            "padding": null,
            "grid_auto_rows": null,
            "grid_gap": null,
            "max_width": null,
            "order": null,
            "_view_module_version": "1.2.0",
            "grid_template_areas": null,
            "object_position": null,
            "object_fit": null,
            "grid_auto_columns": null,
            "margin": null,
            "display": null,
            "left": null
          }
        },
        "0006538f84714ebc90ec55ee423f1b41": {
          "model_module": "@jupyter-widgets/controls",
          "model_name": "HBoxModel",
          "model_module_version": "1.5.0",
          "state": {
            "_view_name": "HBoxView",
            "_dom_classes": [],
            "_model_name": "HBoxModel",
            "_view_module": "@jupyter-widgets/controls",
            "_model_module_version": "1.5.0",
            "_view_count": null,
            "_view_module_version": "1.5.0",
            "box_style": "",
            "layout": "IPY_MODEL_85fc52112dfa44ffa43d80724cdc8dcc",
            "_model_module": "@jupyter-widgets/controls",
            "children": [
              "IPY_MODEL_fd157699a2484cdba36f940749365ad9",
              "IPY_MODEL_316b2ae4ab534969a8ff9c47fd1ea6c8",
              "IPY_MODEL_102435b50c564bd3b5dc728f51db1ca2"
            ]
          }
        },
        "85fc52112dfa44ffa43d80724cdc8dcc": {
          "model_module": "@jupyter-widgets/base",
          "model_name": "LayoutModel",
          "model_module_version": "1.2.0",
          "state": {
            "_view_name": "LayoutView",
            "grid_template_rows": null,
            "right": null,
            "justify_content": null,
            "_view_module": "@jupyter-widgets/base",
            "overflow": null,
            "_model_module_version": "1.2.0",
            "_view_count": null,
            "flex_flow": null,
            "width": null,
            "min_width": null,
            "border": null,
            "align_items": null,
            "bottom": null,
            "_model_module": "@jupyter-widgets/base",
            "top": null,
            "grid_column": null,
            "overflow_y": null,
            "overflow_x": null,
            "grid_auto_flow": null,
            "grid_area": null,
            "grid_template_columns": null,
            "flex": null,
            "_model_name": "LayoutModel",
            "justify_items": null,
            "grid_row": null,
            "max_height": null,
            "align_content": null,
            "visibility": null,
            "align_self": null,
            "height": null,
            "min_height": null,
            "padding": null,
            "grid_auto_rows": null,
            "grid_gap": null,
            "max_width": null,
            "order": null,
            "_view_module_version": "1.2.0",
            "grid_template_areas": null,
            "object_position": null,
            "object_fit": null,
            "grid_auto_columns": null,
            "margin": null,
            "display": null,
            "left": null
          }
        },
        "fd157699a2484cdba36f940749365ad9": {
          "model_module": "@jupyter-widgets/controls",
          "model_name": "HTMLModel",
          "model_module_version": "1.5.0",
          "state": {
            "_view_name": "HTMLView",
            "style": "IPY_MODEL_a25c8c9baa764a8992fd7e886802bfdf",
            "_dom_classes": [],
            "description": "",
            "_model_name": "HTMLModel",
            "placeholder": "​",
            "_view_module": "@jupyter-widgets/controls",
            "_model_module_version": "1.5.0",
            "value": "Dl Size...: 100%",
            "_view_count": null,
            "_view_module_version": "1.5.0",
            "description_tooltip": null,
            "_model_module": "@jupyter-widgets/controls",
            "layout": "IPY_MODEL_be7e2b8d42aa45b59fe01b6b9bb69494"
          }
        },
        "316b2ae4ab534969a8ff9c47fd1ea6c8": {
          "model_module": "@jupyter-widgets/controls",
          "model_name": "FloatProgressModel",
          "model_module_version": "1.5.0",
          "state": {
            "_view_name": "ProgressView",
            "style": "IPY_MODEL_fa589cb22de34c42801272c501d23062",
            "_dom_classes": [],
            "description": "",
            "_model_name": "FloatProgressModel",
            "bar_style": "success",
            "max": 1,
            "_view_module": "@jupyter-widgets/controls",
            "_model_module_version": "1.5.0",
            "value": 1,
            "_view_count": null,
            "_view_module_version": "1.5.0",
            "orientation": "horizontal",
            "min": 0,
            "description_tooltip": null,
            "_model_module": "@jupyter-widgets/controls",
            "layout": "IPY_MODEL_1294bea8d01d45e29ead3c74e1ebf6fd"
          }
        },
        "102435b50c564bd3b5dc728f51db1ca2": {
          "model_module": "@jupyter-widgets/controls",
          "model_name": "HTMLModel",
          "model_module_version": "1.5.0",
          "state": {
            "_view_name": "HTMLView",
            "style": "IPY_MODEL_6549e3179cb348d6bbb95e1a1f390236",
            "_dom_classes": [],
            "description": "",
            "_model_name": "HTMLModel",
            "placeholder": "​",
            "_view_module": "@jupyter-widgets/controls",
            "_model_module_version": "1.5.0",
            "value": " 162/162 [00:07&lt;00:00, 42.79 MiB/s]",
            "_view_count": null,
            "_view_module_version": "1.5.0",
            "description_tooltip": null,
            "_model_module": "@jupyter-widgets/controls",
            "layout": "IPY_MODEL_41f78ea75a9e40d2900085dc9d60d967"
          }
        },
        "a25c8c9baa764a8992fd7e886802bfdf": {
          "model_module": "@jupyter-widgets/controls",
          "model_name": "DescriptionStyleModel",
          "model_module_version": "1.5.0",
          "state": {
            "_view_name": "StyleView",
            "_model_name": "DescriptionStyleModel",
            "description_width": "",
            "_view_module": "@jupyter-widgets/base",
            "_model_module_version": "1.5.0",
            "_view_count": null,
            "_view_module_version": "1.2.0",
            "_model_module": "@jupyter-widgets/controls"
          }
        },
        "be7e2b8d42aa45b59fe01b6b9bb69494": {
          "model_module": "@jupyter-widgets/base",
          "model_name": "LayoutModel",
          "model_module_version": "1.2.0",
          "state": {
            "_view_name": "LayoutView",
            "grid_template_rows": null,
            "right": null,
            "justify_content": null,
            "_view_module": "@jupyter-widgets/base",
            "overflow": null,
            "_model_module_version": "1.2.0",
            "_view_count": null,
            "flex_flow": null,
            "width": null,
            "min_width": null,
            "border": null,
            "align_items": null,
            "bottom": null,
            "_model_module": "@jupyter-widgets/base",
            "top": null,
            "grid_column": null,
            "overflow_y": null,
            "overflow_x": null,
            "grid_auto_flow": null,
            "grid_area": null,
            "grid_template_columns": null,
            "flex": null,
            "_model_name": "LayoutModel",
            "justify_items": null,
            "grid_row": null,
            "max_height": null,
            "align_content": null,
            "visibility": null,
            "align_self": null,
            "height": null,
            "min_height": null,
            "padding": null,
            "grid_auto_rows": null,
            "grid_gap": null,
            "max_width": null,
            "order": null,
            "_view_module_version": "1.2.0",
            "grid_template_areas": null,
            "object_position": null,
            "object_fit": null,
            "grid_auto_columns": null,
            "margin": null,
            "display": null,
            "left": null
          }
        },
        "fa589cb22de34c42801272c501d23062": {
          "model_module": "@jupyter-widgets/controls",
          "model_name": "ProgressStyleModel",
          "model_module_version": "1.5.0",
          "state": {
            "_view_name": "StyleView",
            "_model_name": "ProgressStyleModel",
            "description_width": "",
            "_view_module": "@jupyter-widgets/base",
            "_model_module_version": "1.5.0",
            "_view_count": null,
            "_view_module_version": "1.2.0",
            "bar_color": null,
            "_model_module": "@jupyter-widgets/controls"
          }
        },
        "1294bea8d01d45e29ead3c74e1ebf6fd": {
          "model_module": "@jupyter-widgets/base",
          "model_name": "LayoutModel",
          "model_module_version": "1.2.0",
          "state": {
            "_view_name": "LayoutView",
            "grid_template_rows": null,
            "right": null,
            "justify_content": null,
            "_view_module": "@jupyter-widgets/base",
            "overflow": null,
            "_model_module_version": "1.2.0",
            "_view_count": null,
            "flex_flow": null,
            "width": "20px",
            "min_width": null,
            "border": null,
            "align_items": null,
            "bottom": null,
            "_model_module": "@jupyter-widgets/base",
            "top": null,
            "grid_column": null,
            "overflow_y": null,
            "overflow_x": null,
            "grid_auto_flow": null,
            "grid_area": null,
            "grid_template_columns": null,
            "flex": null,
            "_model_name": "LayoutModel",
            "justify_items": null,
            "grid_row": null,
            "max_height": null,
            "align_content": null,
            "visibility": null,
            "align_self": null,
            "height": null,
            "min_height": null,
            "padding": null,
            "grid_auto_rows": null,
            "grid_gap": null,
            "max_width": null,
            "order": null,
            "_view_module_version": "1.2.0",
            "grid_template_areas": null,
            "object_position": null,
            "object_fit": null,
            "grid_auto_columns": null,
            "margin": null,
            "display": null,
            "left": null
          }
        },
        "6549e3179cb348d6bbb95e1a1f390236": {
          "model_module": "@jupyter-widgets/controls",
          "model_name": "DescriptionStyleModel",
          "model_module_version": "1.5.0",
          "state": {
            "_view_name": "StyleView",
            "_model_name": "DescriptionStyleModel",
            "description_width": "",
            "_view_module": "@jupyter-widgets/base",
            "_model_module_version": "1.5.0",
            "_view_count": null,
            "_view_module_version": "1.2.0",
            "_model_module": "@jupyter-widgets/controls"
          }
        },
        "41f78ea75a9e40d2900085dc9d60d967": {
          "model_module": "@jupyter-widgets/base",
          "model_name": "LayoutModel",
          "model_module_version": "1.2.0",
          "state": {
            "_view_name": "LayoutView",
            "grid_template_rows": null,
            "right": null,
            "justify_content": null,
            "_view_module": "@jupyter-widgets/base",
            "overflow": null,
            "_model_module_version": "1.2.0",
            "_view_count": null,
            "flex_flow": null,
            "width": null,
            "min_width": null,
            "border": null,
            "align_items": null,
            "bottom": null,
            "_model_module": "@jupyter-widgets/base",
            "top": null,
            "grid_column": null,
            "overflow_y": null,
            "overflow_x": null,
            "grid_auto_flow": null,
            "grid_area": null,
            "grid_template_columns": null,
            "flex": null,
            "_model_name": "LayoutModel",
            "justify_items": null,
            "grid_row": null,
            "max_height": null,
            "align_content": null,
            "visibility": null,
            "align_self": null,
            "height": null,
            "min_height": null,
            "padding": null,
            "grid_auto_rows": null,
            "grid_gap": null,
            "max_width": null,
            "order": null,
            "_view_module_version": "1.2.0",
            "grid_template_areas": null,
            "object_position": null,
            "object_fit": null,
            "grid_auto_columns": null,
            "margin": null,
            "display": null,
            "left": null
          }
        },
        "66f8acd2216d40f2a40a2ca3d2c9fe6f": {
          "model_module": "@jupyter-widgets/controls",
          "model_name": "HBoxModel",
          "model_module_version": "1.5.0",
          "state": {
            "_view_name": "HBoxView",
            "_dom_classes": [],
            "_model_name": "HBoxModel",
            "_view_module": "@jupyter-widgets/controls",
            "_model_module_version": "1.5.0",
            "_view_count": null,
            "_view_module_version": "1.5.0",
            "box_style": "",
            "layout": "IPY_MODEL_7b7a19d616724b0aaa0e61955f47a2cd",
            "_model_module": "@jupyter-widgets/controls",
            "children": [
              "IPY_MODEL_39009778664646efa1f035c550f10a47",
              "IPY_MODEL_33e9abd185964a62a9ac1a0f488acd4b",
              "IPY_MODEL_bb2d29690a6e46cdba5cbec8ef12fe23"
            ]
          }
        },
        "7b7a19d616724b0aaa0e61955f47a2cd": {
          "model_module": "@jupyter-widgets/base",
          "model_name": "LayoutModel",
          "model_module_version": "1.2.0",
          "state": {
            "_view_name": "LayoutView",
            "grid_template_rows": null,
            "right": null,
            "justify_content": null,
            "_view_module": "@jupyter-widgets/base",
            "overflow": null,
            "_model_module_version": "1.2.0",
            "_view_count": null,
            "flex_flow": null,
            "width": null,
            "min_width": null,
            "border": null,
            "align_items": null,
            "bottom": null,
            "_model_module": "@jupyter-widgets/base",
            "top": null,
            "grid_column": null,
            "overflow_y": null,
            "overflow_x": null,
            "grid_auto_flow": null,
            "grid_area": null,
            "grid_template_columns": null,
            "flex": null,
            "_model_name": "LayoutModel",
            "justify_items": null,
            "grid_row": null,
            "max_height": null,
            "align_content": null,
            "visibility": null,
            "align_self": null,
            "height": null,
            "min_height": null,
            "padding": null,
            "grid_auto_rows": null,
            "grid_gap": null,
            "max_width": null,
            "order": null,
            "_view_module_version": "1.2.0",
            "grid_template_areas": null,
            "object_position": null,
            "object_fit": null,
            "grid_auto_columns": null,
            "margin": null,
            "display": null,
            "left": null
          }
        },
        "39009778664646efa1f035c550f10a47": {
          "model_module": "@jupyter-widgets/controls",
          "model_name": "HTMLModel",
          "model_module_version": "1.5.0",
          "state": {
            "_view_name": "HTMLView",
            "style": "IPY_MODEL_898f18404fac414985f47ddce821419f",
            "_dom_classes": [],
            "description": "",
            "_model_name": "HTMLModel",
            "placeholder": "​",
            "_view_module": "@jupyter-widgets/controls",
            "_model_module_version": "1.5.0",
            "value": "Extraction completed...: 100%",
            "_view_count": null,
            "_view_module_version": "1.5.0",
            "description_tooltip": null,
            "_model_module": "@jupyter-widgets/controls",
            "layout": "IPY_MODEL_81bc60f5c39443e6bed12bfd81d02b85"
          }
        },
        "33e9abd185964a62a9ac1a0f488acd4b": {
          "model_module": "@jupyter-widgets/controls",
          "model_name": "FloatProgressModel",
          "model_module_version": "1.5.0",
          "state": {
            "_view_name": "ProgressView",
            "style": "IPY_MODEL_eddd30a8f15b49b7abd95f4ef1dc295b",
            "_dom_classes": [],
            "description": "",
            "_model_name": "FloatProgressModel",
            "bar_style": "success",
            "max": 1,
            "_view_module": "@jupyter-widgets/controls",
            "_model_module_version": "1.5.0",
            "value": 1,
            "_view_count": null,
            "_view_module_version": "1.5.0",
            "orientation": "horizontal",
            "min": 0,
            "description_tooltip": null,
            "_model_module": "@jupyter-widgets/controls",
            "layout": "IPY_MODEL_223ceb8ed2634480b1acf4053c232449"
          }
        },
        "bb2d29690a6e46cdba5cbec8ef12fe23": {
          "model_module": "@jupyter-widgets/controls",
          "model_name": "HTMLModel",
          "model_module_version": "1.5.0",
          "state": {
            "_view_name": "HTMLView",
            "style": "IPY_MODEL_741dfc2720854dd8b8283f1729995677",
            "_dom_classes": [],
            "description": "",
            "_model_name": "HTMLModel",
            "placeholder": "​",
            "_view_module": "@jupyter-widgets/controls",
            "_model_module_version": "1.5.0",
            "value": " 1/1 [00:07&lt;00:00,  7.04s/ file]",
            "_view_count": null,
            "_view_module_version": "1.5.0",
            "description_tooltip": null,
            "_model_module": "@jupyter-widgets/controls",
            "layout": "IPY_MODEL_5f3766250dfd4bcebe45bcfffbcae251"
          }
        },
        "898f18404fac414985f47ddce821419f": {
          "model_module": "@jupyter-widgets/controls",
          "model_name": "DescriptionStyleModel",
          "model_module_version": "1.5.0",
          "state": {
            "_view_name": "StyleView",
            "_model_name": "DescriptionStyleModel",
            "description_width": "",
            "_view_module": "@jupyter-widgets/base",
            "_model_module_version": "1.5.0",
            "_view_count": null,
            "_view_module_version": "1.2.0",
            "_model_module": "@jupyter-widgets/controls"
          }
        },
        "81bc60f5c39443e6bed12bfd81d02b85": {
          "model_module": "@jupyter-widgets/base",
          "model_name": "LayoutModel",
          "model_module_version": "1.2.0",
          "state": {
            "_view_name": "LayoutView",
            "grid_template_rows": null,
            "right": null,
            "justify_content": null,
            "_view_module": "@jupyter-widgets/base",
            "overflow": null,
            "_model_module_version": "1.2.0",
            "_view_count": null,
            "flex_flow": null,
            "width": null,
            "min_width": null,
            "border": null,
            "align_items": null,
            "bottom": null,
            "_model_module": "@jupyter-widgets/base",
            "top": null,
            "grid_column": null,
            "overflow_y": null,
            "overflow_x": null,
            "grid_auto_flow": null,
            "grid_area": null,
            "grid_template_columns": null,
            "flex": null,
            "_model_name": "LayoutModel",
            "justify_items": null,
            "grid_row": null,
            "max_height": null,
            "align_content": null,
            "visibility": null,
            "align_self": null,
            "height": null,
            "min_height": null,
            "padding": null,
            "grid_auto_rows": null,
            "grid_gap": null,
            "max_width": null,
            "order": null,
            "_view_module_version": "1.2.0",
            "grid_template_areas": null,
            "object_position": null,
            "object_fit": null,
            "grid_auto_columns": null,
            "margin": null,
            "display": null,
            "left": null
          }
        },
        "eddd30a8f15b49b7abd95f4ef1dc295b": {
          "model_module": "@jupyter-widgets/controls",
          "model_name": "ProgressStyleModel",
          "model_module_version": "1.5.0",
          "state": {
            "_view_name": "StyleView",
            "_model_name": "ProgressStyleModel",
            "description_width": "",
            "_view_module": "@jupyter-widgets/base",
            "_model_module_version": "1.5.0",
            "_view_count": null,
            "_view_module_version": "1.2.0",
            "bar_color": null,
            "_model_module": "@jupyter-widgets/controls"
          }
        },
        "223ceb8ed2634480b1acf4053c232449": {
          "model_module": "@jupyter-widgets/base",
          "model_name": "LayoutModel",
          "model_module_version": "1.2.0",
          "state": {
            "_view_name": "LayoutView",
            "grid_template_rows": null,
            "right": null,
            "justify_content": null,
            "_view_module": "@jupyter-widgets/base",
            "overflow": null,
            "_model_module_version": "1.2.0",
            "_view_count": null,
            "flex_flow": null,
            "width": "20px",
            "min_width": null,
            "border": null,
            "align_items": null,
            "bottom": null,
            "_model_module": "@jupyter-widgets/base",
            "top": null,
            "grid_column": null,
            "overflow_y": null,
            "overflow_x": null,
            "grid_auto_flow": null,
            "grid_area": null,
            "grid_template_columns": null,
            "flex": null,
            "_model_name": "LayoutModel",
            "justify_items": null,
            "grid_row": null,
            "max_height": null,
            "align_content": null,
            "visibility": null,
            "align_self": null,
            "height": null,
            "min_height": null,
            "padding": null,
            "grid_auto_rows": null,
            "grid_gap": null,
            "max_width": null,
            "order": null,
            "_view_module_version": "1.2.0",
            "grid_template_areas": null,
            "object_position": null,
            "object_fit": null,
            "grid_auto_columns": null,
            "margin": null,
            "display": null,
            "left": null
          }
        },
        "741dfc2720854dd8b8283f1729995677": {
          "model_module": "@jupyter-widgets/controls",
          "model_name": "DescriptionStyleModel",
          "model_module_version": "1.5.0",
          "state": {
            "_view_name": "StyleView",
            "_model_name": "DescriptionStyleModel",
            "description_width": "",
            "_view_module": "@jupyter-widgets/base",
            "_model_module_version": "1.5.0",
            "_view_count": null,
            "_view_module_version": "1.2.0",
            "_model_module": "@jupyter-widgets/controls"
          }
        },
        "5f3766250dfd4bcebe45bcfffbcae251": {
          "model_module": "@jupyter-widgets/base",
          "model_name": "LayoutModel",
          "model_module_version": "1.2.0",
          "state": {
            "_view_name": "LayoutView",
            "grid_template_rows": null,
            "right": null,
            "justify_content": null,
            "_view_module": "@jupyter-widgets/base",
            "overflow": null,
            "_model_module_version": "1.2.0",
            "_view_count": null,
            "flex_flow": null,
            "width": null,
            "min_width": null,
            "border": null,
            "align_items": null,
            "bottom": null,
            "_model_module": "@jupyter-widgets/base",
            "top": null,
            "grid_column": null,
            "overflow_y": null,
            "overflow_x": null,
            "grid_auto_flow": null,
            "grid_area": null,
            "grid_template_columns": null,
            "flex": null,
            "_model_name": "LayoutModel",
            "justify_items": null,
            "grid_row": null,
            "max_height": null,
            "align_content": null,
            "visibility": null,
            "align_self": null,
            "height": null,
            "min_height": null,
            "padding": null,
            "grid_auto_rows": null,
            "grid_gap": null,
            "max_width": null,
            "order": null,
            "_view_module_version": "1.2.0",
            "grid_template_areas": null,
            "object_position": null,
            "object_fit": null,
            "grid_auto_columns": null,
            "margin": null,
            "display": null,
            "left": null
          }
        }
      }
    }
  },
  "cells": [
    {
      "cell_type": "markdown",
      "metadata": {
        "id": "view-in-github",
        "colab_type": "text"
      },
      "source": [
        "<a href=\"https://colab.research.google.com/github/Miku0204/Michigan-Computer-Vision/blob/main/KNN%20Classifier/knn.ipynb\" target=\"_parent\"><img src=\"https://colab.research.google.com/assets/colab-badge.svg\" alt=\"Open In Colab\"/></a>"
      ]
    },
    {
      "cell_type": "markdown",
      "metadata": {
        "id": "N9PIP4iS6-gg"
      },
      "source": [
        "#Set-up code"
      ]
    },
    {
      "cell_type": "code",
      "metadata": {
        "id": "4VXUWg9n3uwV"
      },
      "source": [
        "user_email = \"your git global email\"\n",
        "user_name  = \"your git global user\"\n",
        "\n",
        "!git config --global user.email {user_email}\n",
        "!git config --global user.name {user_name}"
      ],
      "execution_count": 3,
      "outputs": []
    },
    {
      "cell_type": "code",
      "metadata": {
        "id": "XmKW5Ghy4OQL"
      },
      "source": [
        "repository = \"Michigan-Computer-Vision\"\n",
        "git_token = \"your github token\"\n",
        "\n",
        "!git clone https://{git_token}@github.com/{user_name}/{repository}"
      ],
      "execution_count": null,
      "outputs": []
    },
    {
      "cell_type": "code",
      "metadata": {
        "id": "z4mcLIYD74Cg"
      },
      "source": [
        "import os \n",
        "repository_path = os.path.join(\".\" , repository)\n",
        "knn_name        = \"KNN Classifier\"\n",
        "knn_path        = os.path.join(repository_path , knn_name)\n",
        "utils_path      = os.path.join(knn_path        , \"utils\" )\n",
        "print(os.listdir(knn_path))\n",
        "print(os.listdir(utils_path))"
      ],
      "execution_count": null,
      "outputs": []
    },
    {
      "cell_type": "code",
      "metadata": {
        "id": "TFnKQClXjVn5"
      },
      "source": [
        "import sys\n",
        "sys.path.append(knn_path)"
      ],
      "execution_count": 7,
      "outputs": []
    },
    {
      "cell_type": "code",
      "metadata": {
        "id": "t3tEAUQUjI3C"
      },
      "source": [
        "import utils\n",
        "import numpy as np\n",
        "import tensorflow as tf\n",
        "import matplotlib.pyplot as plt"
      ],
      "execution_count": 8,
      "outputs": []
    },
    {
      "cell_type": "markdown",
      "metadata": {
        "id": "nWrR84GzjnPt"
      },
      "source": [
        "# Data visualization"
      ]
    },
    {
      "cell_type": "code",
      "metadata": {
        "colab": {
          "base_uri": "https://localhost:8080/",
          "height": 427,
          "referenced_widgets": [
            "64c4f5af7c23451dac7ef95847842ba1",
            "3a39951f536345b4a2a99f17ca46113a",
            "747c944dc0b048fcaad4f953b53f7294",
            "0bfb264134a743c9bd2014e67f368af3",
            "7146818d28f14fe0b76f5b51baa82365",
            "331d04cfb638403c93e061498ea78885",
            "9848630aaa0940b692709e6935c14bae",
            "1fe24a7b4f754c9bba78138261f1e3aa",
            "7074784bef5940d382f75df7f290ee86",
            "ae4b39913ef44acea76f5e8cdd72b0eb",
            "360a22a3b18d4f6a9b8ed1d6dbf3003b",
            "0006538f84714ebc90ec55ee423f1b41",
            "85fc52112dfa44ffa43d80724cdc8dcc",
            "fd157699a2484cdba36f940749365ad9",
            "316b2ae4ab534969a8ff9c47fd1ea6c8",
            "102435b50c564bd3b5dc728f51db1ca2",
            "a25c8c9baa764a8992fd7e886802bfdf",
            "be7e2b8d42aa45b59fe01b6b9bb69494",
            "fa589cb22de34c42801272c501d23062",
            "1294bea8d01d45e29ead3c74e1ebf6fd",
            "6549e3179cb348d6bbb95e1a1f390236",
            "41f78ea75a9e40d2900085dc9d60d967",
            "66f8acd2216d40f2a40a2ca3d2c9fe6f",
            "7b7a19d616724b0aaa0e61955f47a2cd",
            "39009778664646efa1f035c550f10a47",
            "33e9abd185964a62a9ac1a0f488acd4b",
            "bb2d29690a6e46cdba5cbec8ef12fe23",
            "898f18404fac414985f47ddce821419f",
            "81bc60f5c39443e6bed12bfd81d02b85",
            "eddd30a8f15b49b7abd95f4ef1dc295b",
            "223ceb8ed2634480b1acf4053c232449",
            "741dfc2720854dd8b8283f1729995677",
            "5f3766250dfd4bcebe45bcfffbcae251"
          ]
        },
        "id": "kwHNZrxhjqH0",
        "outputId": "62c136c9-fbdf-40e9-f099-57a2c7b9055d"
      },
      "source": [
        "num_train  = 400\n",
        "num_test   = 200\n",
        "train_image , train_label , test_image , test_label  = utils.data.data_loading(num_train , num_test)"
      ],
      "execution_count": 9,
      "outputs": [
        {
          "output_type": "stream",
          "name": "stdout",
          "text": [
            "\u001b[1mDownloading and preparing dataset cifar10/3.0.2 (download: 162.17 MiB, generated: 132.40 MiB, total: 294.58 MiB) to /root/tensorflow_datasets/cifar10/3.0.2...\u001b[0m\n"
          ]
        },
        {
          "output_type": "display_data",
          "data": {
            "application/vnd.jupyter.widget-view+json": {
              "model_id": "64c4f5af7c23451dac7ef95847842ba1",
              "version_minor": 0,
              "version_major": 2
            },
            "text/plain": [
              "Dl Completed...: 0 url [00:00, ? url/s]"
            ]
          },
          "metadata": {}
        },
        {
          "output_type": "display_data",
          "data": {
            "application/vnd.jupyter.widget-view+json": {
              "model_id": "0006538f84714ebc90ec55ee423f1b41",
              "version_minor": 0,
              "version_major": 2
            },
            "text/plain": [
              "Dl Size...: 0 MiB [00:00, ? MiB/s]"
            ]
          },
          "metadata": {}
        },
        {
          "output_type": "display_data",
          "data": {
            "application/vnd.jupyter.widget-view+json": {
              "model_id": "66f8acd2216d40f2a40a2ca3d2c9fe6f",
              "version_minor": 0,
              "version_major": 2
            },
            "text/plain": [
              "Extraction completed...: 0 file [00:00, ? file/s]"
            ]
          },
          "metadata": {}
        },
        {
          "output_type": "stream",
          "name": "stdout",
          "text": [
            "\n",
            "\n",
            "\n"
          ]
        },
        {
          "output_type": "display_data",
          "data": {
            "application/vnd.jupyter.widget-view+json": {
              "model_id": "1cbf3db2081c4ad98bab849c1d660dba",
              "version_minor": 0,
              "version_major": 2
            },
            "text/plain": [
              "0 examples [00:00, ? examples/s]"
            ]
          },
          "metadata": {}
        },
        {
          "output_type": "stream",
          "name": "stdout",
          "text": [
            "Shuffling and writing examples to /root/tensorflow_datasets/cifar10/3.0.2.incompleteMCPL07/cifar10-train.tfrecord\n"
          ]
        },
        {
          "output_type": "display_data",
          "data": {
            "application/vnd.jupyter.widget-view+json": {
              "model_id": "137ae33ca77b42c58e37dc23afb7654c",
              "version_minor": 0,
              "version_major": 2
            },
            "text/plain": [
              "  0%|          | 0/50000 [00:00<?, ? examples/s]"
            ]
          },
          "metadata": {}
        },
        {
          "output_type": "display_data",
          "data": {
            "application/vnd.jupyter.widget-view+json": {
              "model_id": "3d16d944291d4cd58876b94230c5d693",
              "version_minor": 0,
              "version_major": 2
            },
            "text/plain": [
              "0 examples [00:00, ? examples/s]"
            ]
          },
          "metadata": {}
        },
        {
          "output_type": "stream",
          "name": "stdout",
          "text": [
            "Shuffling and writing examples to /root/tensorflow_datasets/cifar10/3.0.2.incompleteMCPL07/cifar10-test.tfrecord\n"
          ]
        },
        {
          "output_type": "display_data",
          "data": {
            "application/vnd.jupyter.widget-view+json": {
              "model_id": "78e3fe5cb8164534b5d99afe1e180572",
              "version_minor": 0,
              "version_major": 2
            },
            "text/plain": [
              "  0%|          | 0/10000 [00:00<?, ? examples/s]"
            ]
          },
          "metadata": {}
        },
        {
          "output_type": "stream",
          "name": "stdout",
          "text": [
            "\u001b[1mDataset cifar10 downloaded and prepared to /root/tensorflow_datasets/cifar10/3.0.2. Subsequent calls will reuse this data.\u001b[0m\n",
            "WARNING:tensorflow:From /usr/local/lib/python3.7/dist-packages/tensorflow_datasets/core/dataset_builder.py:598: get_single_element (from tensorflow.python.data.experimental.ops.get_single_element) is deprecated and will be removed in a future version.\n",
            "Instructions for updating:\n",
            "Use `tf.data.Dataset.get_single_element()`.\n"
          ]
        },
        {
          "output_type": "stream",
          "name": "stderr",
          "text": [
            "WARNING:tensorflow:From /usr/local/lib/python3.7/dist-packages/tensorflow_datasets/core/dataset_builder.py:598: get_single_element (from tensorflow.python.data.experimental.ops.get_single_element) is deprecated and will be removed in a future version.\n",
            "Instructions for updating:\n",
            "Use `tf.data.Dataset.get_single_element()`.\n"
          ]
        }
      ]
    },
    {
      "cell_type": "code",
      "metadata": {
        "id": "xfBqkTtym8I0"
      },
      "source": [
        "class_dict = ['plane', 'car', 'bird', 'cat', 'deer', 'dog', 'frog', 'horse', 'ship', 'truck']"
      ],
      "execution_count": 11,
      "outputs": []
    },
    {
      "cell_type": "code",
      "metadata": {
        "colab": {
          "base_uri": "https://localhost:8080/",
          "height": 621
        },
        "id": "-FB1hDTOpAN8",
        "outputId": "90d1d9ed-ab71-42d5-d46d-619d03113bc8"
      },
      "source": [
        "help(utils.vis.random_samples)\n",
        "\n",
        "utils.vis.random_samples(train_image , train_label , class_dict , 10)"
      ],
      "execution_count": 12,
      "outputs": [
        {
          "output_type": "stream",
          "name": "stdout",
          "text": [
            "Help on function random_samples in module utils.vis:\n",
            "\n",
            "random_samples(X, y, class_dict, samples_per_row)\n",
            "    Randomly select samples_per_row for each class on the whole available dataset\n",
            "    then visualize it\n",
            "    \n",
            "    Inputs : \n",
            "    \n",
            "    X : a tensor of [N x H x W x C] shape where N is size of batch\n",
            "    y : the paired label for X\n",
            "    class_dict : the name of classes\n",
            "    samples_per_row : the number of sample images we want to show for each class\n",
            "    \n",
            "    Returns : \n",
            "    sample_fig : a subplots of shape samples x samples that have the class name\n",
            "    on the left\n",
            "\n"
          ]
        },
        {
          "output_type": "display_data",
          "data": {
            "image/png": "[encoded data removed]",
            "text/plain": [
              "<Figure size 432x288 with 100 Axes>"
            ]
          },
          "metadata": {}
        }
      ]
    },
    {
      "cell_type": "markdown",
      "metadata": {
        "id": "09Vd7NtWyoOL"
      },
      "source": [
        "# KNN Classifier"
      ]
    },
    {
      "cell_type": "code",
      "metadata": {
        "id": "_eV2vesH9x0X"
      },
      "source": [
        "from knn import KnnClassifier\n",
        "import time "
      ],
      "execution_count": 13,
      "outputs": []
    },
    {
      "cell_type": "markdown",
      "metadata": {
        "id": "Ue0CcnruDzof"
      },
      "source": [
        "##Compute-distance Naive loop"
      ]
    },
    {
      "cell_type": "code",
      "metadata": {
        "id": "0z2af1W_D4ma"
      },
      "source": [
        "from knn import compute_distance_two_loops"
      ],
      "execution_count": 14,
      "outputs": []
    },
    {
      "cell_type": "code",
      "metadata": {
        "id": "7sVH2oVxD_PK"
      },
      "source": [
        "\n",
        "num_train  = 50\n",
        "num_test   = 20\n",
        "train_image , train_label , test_image , test_label = utils.data.data_loading(num_train , num_test)"
      ],
      "execution_count": 15,
      "outputs": []
    },
    {
      "cell_type": "code",
      "metadata": {
        "id": "bnlpX93NJVSq",
        "outputId": "8d33c37b-771b-4cc0-e1b4-d7687a8065a7",
        "colab": {
          "base_uri": "https://localhost:8080/"
        }
      },
      "source": [
        "help(compute_distance_two_loops)\n",
        "\n",
        "Dist_two_loops = compute_distance_two_loops(train_image , test_image)\n",
        "\n",
        "print(\"Shape of distance : \"  , Dist_two_loops.shape)\n",
        "print(\"Dtype of distance :\"   , Dist_two_loops.dtype)"
      ],
      "execution_count": 16,
      "outputs": [
        {
          "output_type": "stream",
          "name": "stdout",
          "text": [
            "Help on function compute_distance_two_loops in module knn:\n",
            "\n",
            "compute_distance_two_loops(x_train, x_test)\n",
            "    Helps on compute_distance_two_loops : \n",
            "    This function just implicitly loop through the training set and test set \n",
            "    to compute SQUARED EUCLID distance between each training examples and tes\n",
            "    examples . Images should be flattened out and treated as vector\n",
            "    \n",
            "    Inputs : \n",
            "    x_train : [num_train x H x W x C] tensor , contain information of num_train \n",
            "    training examples . dtype = 'int8'\n",
            "    x_test  : [num_test x H x W x C] tensor , contain information of num_test test \n",
            "    examples , dtype = 'int8'\n",
            "    \n",
            "    Returns : \n",
            "    dist    : [num_train x num_test] numpy array, where the entry dist[i][j] stores \n",
            "    distance of train[i] and test[j]\n",
            "\n",
            "Shape of distance :  (50, 20)\n",
            "Dtype of distance : float32\n"
          ]
        }
      ]
    },
    {
      "cell_type": "markdown",
      "metadata": {
        "id": "BunR_Kw7KMGB"
      },
      "source": [
        "## Compute Distance Vectorization"
      ]
    },
    {
      "cell_type": "markdown",
      "metadata": {
        "id": "1euHcKx6OZ6D"
      },
      "source": [
        "### One loop vectorization"
      ]
    },
    {
      "cell_type": "code",
      "metadata": {
        "id": "hM7Rv4EZKPW_"
      },
      "source": [
        "from knn import compute_distance_one_loop"
      ],
      "execution_count": 17,
      "outputs": []
    },
    {
      "cell_type": "code",
      "metadata": {
        "id": "LkEV9LlENCr4"
      },
      "source": [
        "num_train = 50 \n",
        "num_test  = 20\n",
        "\n",
        "\n",
        "train_image  = tf.convert_to_tensor(np.random.rand(num_train , 4 , 4)) \n",
        "train_label  = tf.convert_to_tensor(np.random.randint(0 , 9 , num_train))\n",
        "\n",
        "test_image   = tf.convert_to_tensor(np.random.rand(num_test , 4 , 4))\n",
        "test_label   = tf.convert_to_tensor(np.random.randint(0 , 9 , num_test))\n"
      ],
      "execution_count": 18,
      "outputs": []
    },
    {
      "cell_type": "code",
      "metadata": {
        "id": "VPhpomR9KVLM",
        "outputId": "5a76ccc2-3afe-4062-ce1e-9394bca78335",
        "colab": {
          "base_uri": "https://localhost:8080/"
        }
      },
      "source": [
        "help(compute_distance_one_loop)\n",
        "\n",
        "Dist_two_loops = compute_distance_two_loops(train_image , test_image)\n",
        "Dist_one_loop  = compute_distance_one_loop(train_image , test_image)\n",
        "\n",
        "print(\"Distance matrix has shape:\" , Dist_one_loop.shape )\n",
        "\n",
        "Difference  = Dist_one_loop - Dist_two_loops \n",
        "\n",
        "print(Difference.min() , np.max(Difference))\n"
      ],
      "execution_count": 26,
      "outputs": [
        {
          "output_type": "stream",
          "name": "stdout",
          "text": [
            "Help on function compute_distance_one_loop in module knn:\n",
            "\n",
            "compute_distance_one_loop(x_train, x_test)\n",
            "    Helps on compute_distance_one_loop : \n",
            "    This is the vectorized version of compute_distance_two loops , this one \n",
            "    will only loop through x_train and subtract it from the vector of test set\n",
            "    and return the result on dist\n",
            "    \n",
            "    Inputs : \n",
            "    x_train : [num_train x H x W x C] tensor , dtype = 'uint8'\n",
            "    x_test  : [num_test x H x W x C] tensor , contain information of num_test, \n",
            "    dtype = 'int8'\n",
            "    \n",
            "    \n",
            "    Returns : \n",
            "    dist    : [num_train x num_test] tensor , where the entry dist[i][j] stores \n",
            "    distance of train[i] and test[j]\n",
            "\n",
            "Distance matrix has shape: (50, 20)\n",
            "0.0 0.0\n"
          ]
        }
      ]
    },
    {
      "cell_type": "markdown",
      "metadata": {
        "id": "6itgsaUlOd5T"
      },
      "source": [
        "### No loop computing"
      ]
    },
    {
      "cell_type": "code",
      "metadata": {
        "id": "b429_bV_OpsI"
      },
      "source": [
        "from knn import compute_distance_no_loop"
      ],
      "execution_count": 21,
      "outputs": []
    },
    {
      "cell_type": "code",
      "metadata": {
        "id": "JZDe3j6CQCiU"
      },
      "source": [
        "num_train = 50\n",
        "num_test  = 20\n",
        "train_image , train_label , test_image , test_label = utils.data.data_loading(num_train , num_test)"
      ],
      "execution_count": 20,
      "outputs": []
    },
    {
      "cell_type": "code",
      "metadata": {
        "id": "m6MVaL6-QTXn",
        "outputId": "61b32570-f662-4e22-e4cd-1578e5e8192f",
        "colab": {
          "base_uri": "https://localhost:8080/"
        }
      },
      "source": [
        "help(compute_distance_no_loop)\n",
        "Dist_two_loops = compute_distance_two_loops(train_image , test_image)\n",
        "Dist_no_loop   = compute_distance_no_loop(train_image , test_image)\n",
        "Difference     = Dist_two_loops - Dist_no_loop\n",
        "\n",
        "print(\"Dist_no_loop shape : \" ,  Dist_no_loop.shape)\n",
        "print(\"Max error          : \" ,  np.max(Difference))\n",
        "\n"
      ],
      "execution_count": 25,
      "outputs": [
        {
          "output_type": "stream",
          "name": "stdout",
          "text": [
            "Help on function compute_distance_no_loop in module knn:\n",
            "\n",
            "compute_distance_no_loop(x_train, x_test)\n",
            "    This function computes distance between x_train and x_test by vectorization.\n",
            "    Both input will be multiplied with a intermediate matrix to press them down.\n",
            "    \n",
            "    \n",
            "    Inputs :\n",
            "    x_train : [num_train x H x W x C] tensor , dtype = 'uint8' \n",
            "    x_test  : [num_test x H x W x C] tensor , dtype = 'uint8'\n",
            "    \n",
            "    Returns : \n",
            "    dist    : [num_train x num_test] tensor , dtype = 'uint8'\n",
            "    with dist[i][j] is the squared euclidian distance of train[i] and test[j]\n",
            "\n",
            "Dist_no_loop shape :  (50, 20)\n",
            "Max error          :  7.6293945e-06\n"
          ]
        }
      ]
    },
    {
      "cell_type": "markdown",
      "metadata": {
        "id": "eiLiF9w4TSBl"
      },
      "source": [
        "#Predicting Labels\n"
      ]
    },
    {
      "cell_type": "code",
      "metadata": {
        "id": "-ncoQkG6TV7J"
      },
      "source": [
        "from knn import predict_label"
      ],
      "execution_count": 27,
      "outputs": []
    },
    {
      "cell_type": "code",
      "metadata": {
        "id": "oPRusyW3Tg1V",
        "outputId": "e251f034-4cea-4479-f75a-c0e03806a33b",
        "colab": {
          "base_uri": "https://localhost:8080/"
        }
      },
      "source": [
        "help(predict_label)"
      ],
      "execution_count": 28,
      "outputs": [
        {
          "output_type": "stream",
          "name": "stdout",
          "text": [
            "Help on function predict_label in module knn:\n",
            "\n",
            "predict_label(distance, y_train, k=1)\n",
            "    This function take the distance computed between x_train and x_test\n",
            "    and take k neaest sample from x_train's label : y_train to assign to x_test\n",
            "    \n",
            "    Inputs : \n",
            "    Distance : [num_train x num_test] tensor\n",
            "    y_train  : Paired label of x_train\n",
            "    \n",
            "    Returns  : \n",
            "    y_pred   : Predicted label for each sample/image on x_test\n",
            "\n"
          ]
        }
      ]
    },
    {
      "cell_type": "code",
      "metadata": {
        "id": "OXRE4qyvTidT",
        "outputId": "4167c772-f2b8-4149-b469-eb6cdf01aed2",
        "colab": {
          "base_uri": "https://localhost:8080/"
        }
      },
      "source": [
        "\"\"\"\n",
        "You should see a result at arround 23 - 27 % with k = 1 as default\n",
        "\n",
        "\"\"\"\n",
        "\n",
        "dists = compute_distance_no_loop(train_image , test_image)\n",
        "sum(predict_label(dists , train_label) == test_label.numpy()) / num_test * 100"
      ],
      "execution_count": 36,
      "outputs": [
        {
          "output_type": "execute_result",
          "data": {
            "text/plain": [
              "25.0"
            ]
          },
          "metadata": {},
          "execution_count": 36
        }
      ]
    },
    {
      "cell_type": "markdown",
      "metadata": {
        "id": "Q-EWvVT3U_78"
      },
      "source": [
        "## A complete Knn model"
      ]
    },
    {
      "cell_type": "code",
      "metadata": {
        "id": "j918mjMlVD0D"
      },
      "source": [
        "from knn import KnnClassifier"
      ],
      "execution_count": 37,
      "outputs": []
    },
    {
      "cell_type": "code",
      "metadata": {
        "id": "d2BUDuZdVJEQ"
      },
      "source": [
        "classifier = KnnClassifier(train_image , train_label)"
      ],
      "execution_count": 38,
      "outputs": []
    },
    {
      "cell_type": "code",
      "metadata": {
        "id": "cLZMDwaqVPA4"
      },
      "source": [
        "k_value = 3\n",
        "print(\"Prediction on test set\" , classifier.predict(test_image , test_label , k_value) )\n"
      ],
      "execution_count": null,
      "outputs": []
    }
  ]
}