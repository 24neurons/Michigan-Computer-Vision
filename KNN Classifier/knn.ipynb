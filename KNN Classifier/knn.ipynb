{
  "nbformat": 4,
  "nbformat_minor": 0,
  "metadata": {
    "colab": {
      "name": "Knn.ipynb",
      "provenance": [],
      "authorship_tag": "ABX9TyP7JRuKL1bsRUnBFizHOEf8",
      "include_colab_link": true
    },
    "kernelspec": {
      "name": "python3",
      "display_name": "Python 3"
    },
    "language_info": {
      "name": "python"
    }
  },
  "cells": [
    {
      "cell_type": "markdown",
      "metadata": {
        "id": "view-in-github",
        "colab_type": "text"
      },
      "source": [
        "<a href=\"https://colab.research.google.com/github/Miku0204/Michigan-Computer-Vision/blob/main/KNN%20Classifier/knn.ipynb\" target=\"_parent\"><img src=\"https://colab.research.google.com/assets/colab-badge.svg\" alt=\"Open In Colab\"/></a>"
      ]
    },
    {
      "cell_type": "markdown",
      "metadata": {
        "id": "N9PIP4iS6-gg"
      },
      "source": [
        "#Set-up code"
      ]
    },
    {
      "cell_type": "code",
      "metadata": {
        "id": "4VXUWg9n3uwV"
      },
      "source": [
        "user_email = \"your_github_email\"\n",
        "user_name  = \"your_github_name\"\n",
        "\n",
        "!git config --global user.email {user_email}\n",
        "!git config --global user.name {user_name}"
      ],
      "execution_count": 1,
      "outputs": []
    },
    {
      "cell_type": "code",
      "metadata": {
        "id": "XmKW5Ghy4OQL"
      },
      "source": [
        "repository = \"Michigan-Computer-Vision\"\n",
        "git_token = \"your github token\"\n",
        "\n",
        "!git clone https://{git_token}@github.com/{user_name}/{repository}"
      ],
      "execution_count": null,
      "outputs": []
    },
    {
      "cell_type": "code",
      "metadata": {
        "id": "z4mcLIYD74Cg"
      },
      "source": [
        ""
      ],
      "execution_count": null,
      "outputs": []
    }
  ]
}