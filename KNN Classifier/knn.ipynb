{
  "nbformat": 4,
  "nbformat_minor": 0,
  "metadata": {
    "colab": {
      "name": "Knn.ipynb",
      "provenance": [],
      "authorship_tag": "ABX9TyNNVXN6bnCtpC6e/GuG0rYq",
      "include_colab_link": true
    },
    "kernelspec": {
      "name": "python3",
      "display_name": "Python 3"
    },
    "language_info": {
      "name": "python"
    }
  },
  "cells": [
    {
      "cell_type": "markdown",
      "metadata": {
        "id": "view-in-github",
        "colab_type": "text"
      },
      "source": [
        "<a href=\"https://colab.research.google.com/github/Miku0204/Michigan-Computer-Vision/blob/main/KNN%20Classifier/knn.ipynb\" target=\"_parent\"><img src=\"https://colab.research.google.com/assets/colab-badge.svg\" alt=\"Open In Colab\"/></a>"
      ]
    },
    {
      "cell_type": "markdown",
      "metadata": {
        "id": "N9PIP4iS6-gg"
      },
      "source": [
        "#Set-up code"
      ]
    },
    {
      "cell_type": "code",
      "metadata": {
        "id": "4VXUWg9n3uwV"
      },
      "source": [
        "user_email = \"your github email\"\n",
        "user_name  = \"your github user name\"\n",
        "\n",
        "!git config --global user.email {user_email}\n",
        "!git config --global user.name {user_name}"
      ],
      "execution_count": null,
      "outputs": []
    },
    {
      "cell_type": "code",
      "metadata": {
        "id": "XmKW5Ghy4OQL"
      },
      "source": [
        "repository = \"Michigan-Computer-Vision\"\n",
        "git_token = \"your github token\"\n",
        "\n",
        "!git clone https://{git_token}@github.com/{user_name}/{repository}"
      ],
      "execution_count": null,
      "outputs": []
    },
    {
      "cell_type": "code",
      "metadata": {
        "id": "z4mcLIYD74Cg"
      },
      "source": [
        "import os \n",
        "repository_path = os.path.join(\".\" , repository)\n",
        "knn_name        = \"KNN Classifier\"\n",
        "knn_path        = os.path.join(repository_path , knn_name)\n",
        "utils_path      = os.path.join(knn_path        , \"utils\" )\n",
        "print(os.listdir(knn_path))\n",
        "print(os.listdir(utils_path))"
      ],
      "execution_count": null,
      "outputs": []
    },
    {
      "cell_type": "code",
      "metadata": {
        "id": "TFnKQClXjVn5"
      },
      "source": [
        "import sys\n",
        "sys.path.append(knn_path)"
      ],
      "execution_count": 6,
      "outputs": []
    },
    {
      "cell_type": "code",
      "metadata": {
        "id": "t3tEAUQUjI3C"
      },
      "source": [
        "import utils\n",
        "import numpy as np\n",
        "import tensorflow as tf\n",
        "import matplotlib.pyplot as plt"
      ],
      "execution_count": 7,
      "outputs": []
    },
    {
      "cell_type": "markdown",
      "metadata": {
        "id": "nWrR84GzjnPt"
      },
      "source": [
        "# Data visualization"
      ]
    },
    {
      "cell_type": "code",
      "metadata": {
        "id": "kwHNZrxhjqH0"
      },
      "source": [
        "num_train  = 40000\n",
        "num_test   = 5000\n",
        "train_image , train_label , test_image , test_label  = utils.data.data_loading(num_train , num_test)"
      ],
      "execution_count": null,
      "outputs": []
    },
    {
      "cell_type": "code",
      "metadata": {
        "id": "xfBqkTtym8I0"
      },
      "source": [
        "class_dict = ['plane', 'car', 'bird', 'cat', 'deer', 'dog', 'frog', 'horse', 'ship', 'truck']"
      ],
      "execution_count": 9,
      "outputs": []
    },
    {
      "cell_type": "code",
      "metadata": {
        "id": "-FB1hDTOpAN8"
      },
      "source": [
        "help(utils.vis.random_samples)\n",
        "\n",
        "utils.vis.random_samples(train_image , train_label , class_dict , 10)"
      ],
      "execution_count": null,
      "outputs": []
    },
    {
      "cell_type": "markdown",
      "metadata": {
        "id": "09Vd7NtWyoOL"
      },
      "source": [
        "# KNN Classifier"
      ]
    },
    {
      "cell_type": "code",
      "metadata": {
        "id": "j8u9n-skyq4r"
      },
      "source": [
        ""
      ],
      "execution_count": null,
      "outputs": []
    }
  ]
}